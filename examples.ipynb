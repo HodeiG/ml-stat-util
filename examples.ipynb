{
 "cells": [
  {
   "cell_type": "code",
   "execution_count": 1,
   "metadata": {
    "collapsed": true
   },
   "outputs": [],
   "source": [
    "import stat_util\n",
    "import numpy as np\n",
    "from sklearn.metrics import roc_auc_score\n",
    "import matplotlib.pyplot as plt\n",
    "%matplotlib inline"
   ]
  },
  {
   "cell_type": "markdown",
   "metadata": {},
   "source": [
    "### Use case #1\n",
    "\n",
    "Compute AUC with 95% confidence interval for a single model predictions"
   ]
  },
  {
   "cell_type": "code",
   "execution_count": 2,
   "metadata": {
    "collapsed": true
   },
   "outputs": [],
   "source": [
    "np.random.seed(42)\n",
    "random_array = np.random.rand(100)\n",
    "# simulated ground truth\n",
    "y_true = np.round(random_array)\n",
    "# simulated predictions for a model\n",
    "y_pred = random_array + np.random.normal(loc=0.0, scale=0.2, size=len(y_true))"
   ]
  },
  {
   "cell_type": "code",
   "execution_count": 3,
   "metadata": {
    "collapsed": true
   },
   "outputs": [],
   "source": [
    "# AUC with 95% confidence interval for a single model\n",
    "score, ci_lower, ci_upper, scores = stat_util.score_ci(y_true, y_pred, \n",
    "                                                       score_fun=roc_auc_score,\n",
    "                                                       seed=42)"
   ]
  },
  {
   "cell_type": "code",
   "execution_count": 4,
   "metadata": {},
   "outputs": [
    {
     "name": "stdout",
     "output_type": "stream",
     "text": [
      "AUC=0.94, 95% CI: 0.89-0.98\n"
     ]
    },
    {
     "data": {
      "image/png": "[encoded data removed]",
      "text/plain": [
       "<Figure size 432x288 with 1 Axes>"
      ]
     },
     "metadata": {
      "needs_background": "light"
     },
     "output_type": "display_data"
    }
   ],
   "source": [
    "bins = plt.hist(scores)\n",
    "plt.plot([score, score], [0, np.max(bins[0])], color=\"tomato\")\n",
    "plt.plot([ci_lower, ci_lower], [0, np.max(bins[0])], color=\"lime\")\n",
    "plt.plot([ci_upper, ci_upper], [0, np.max(bins[0])], color=\"lime\")\n",
    "print(\"AUC={:.2f}, 95% CI: {:.2f}-{:.2f}\".format(score, ci_lower, ci_upper))"
   ]
  },
  {
   "cell_type": "markdown",
   "metadata": {},
   "source": [
    "### Use case #2\n",
    "\n",
    "Compare two models by computing p-value for a difference in their performance measured with AUC"
   ]
  },
  {
   "cell_type": "code",
   "execution_count": 5,
   "metadata": {
    "collapsed": true
   },
   "outputs": [],
   "source": [
    "np.random.seed(42)\n",
    "random_array = np.random.rand(100)\n",
    "# simulated ground truth\n",
    "y_true = np.round(random_array)\n",
    "# simulated predictions for model I\n",
    "y_pred1 = random_array + np.random.normal(loc=0.0, scale=0.2, size=len(y_true))\n",
    "# simulated predictions for model II\n",
    "y_pred2 = random_array + np.random.normal(loc=0.0, scale=0.3, size=len(y_true))"
   ]
  },
  {
   "cell_type": "code",
   "execution_count": 6,
   "metadata": {
    "collapsed": true
   },
   "outputs": [],
   "source": [
    "# p-value comparing AUC for model I and model II\n",
    "p, z = stat_util.pvalue(y_true, y_pred1, y_pred2, \n",
    "                        score_fun=roc_auc_score,\n",
    "                        seed=42)"
   ]
  },
  {
   "cell_type": "code",
   "execution_count": 7,
   "metadata": {},
   "outputs": [
    {
     "name": "stdout",
     "output_type": "stream",
     "text": [
      "p=0.01\n"
     ]
    },
    {
     "data": {
      "image/png": "[encoded data removed]",
      "text/plain": [
       "<Figure size 432x288 with 1 Axes>"
      ]
     },
     "metadata": {
      "needs_background": "light"
     },
     "output_type": "display_data"
    }
   ],
   "source": [
    "bins = plt.hist(z)\n",
    "plt.plot([0, 0], [0, np.max(bins[0])], color=\"black\")\n",
    "print(\"p={}\".format(p))"
   ]
  },
  {
   "cell_type": "markdown",
   "metadata": {},
   "source": [
    "### Use case #3\n",
    "\n",
    "Compute mean AUC with 95% confidence interval for a set of 10 readers/models"
   ]
  },
  {
   "cell_type": "code",
   "execution_count": 8,
   "metadata": {
    "collapsed": true
   },
   "outputs": [],
   "source": [
    "np.random.seed(42)\n",
    "random_array = np.random.rand(100)\n",
    "# simulated ground truth\n",
    "y_true = np.round(random_array)\n",
    "# simulated predictions for readers\n",
    "y_pred_readers = []\n",
    "for _ in range(10):\n",
    "    scale = np.random.normal(loc=0.3, scale=0.1)\n",
    "    y_pred_r = random_array + np.random.normal(loc=0.0, scale=scale, size=len(y_true))\n",
    "    y_pred_readers.append(y_pred_r)"
   ]
  },
  {
   "cell_type": "code",
   "execution_count": 9,
   "metadata": {
    "collapsed": true
   },
   "outputs": [],
   "source": [
    "# mean AUC with 95% confidence interval for 10 readers/models\n",
    "mean_score, ci_lower, ci_upper, scores = stat_util.score_stat_ci(y_true, y_pred_readers, \n",
    "                                                                 score_fun=roc_auc_score,\n",
    "                                                                 stat_fun=np.mean,\n",
    "                                                                 seed=42)"
   ]
  },
  {
   "cell_type": "code",
   "execution_count": 10,
   "metadata": {},
   "outputs": [
    {
     "name": "stdout",
     "output_type": "stream",
     "text": [
      "mean AUC=0.87, 95% CI: 0.82-0.91\n"
     ]
    },
    {
     "data": {
      "image/png": "[encoded data removed]",
      "text/plain": [
       "<Figure size 432x288 with 1 Axes>"
      ]
     },
     "metadata": {
      "needs_background": "light"
     },
     "output_type": "display_data"
    }
   ],
   "source": [
    "bins = plt.hist(scores)\n",
    "plt.plot([mean_score, mean_score], [0, np.max(bins[0])], color=\"tomato\")\n",
    "plt.plot([ci_lower, ci_lower], [0, np.max(bins[0])], color=\"lime\")\n",
    "plt.plot([ci_upper, ci_upper], [0, np.max(bins[0])], color=\"lime\")\n",
    "print(\"mean AUC={:.2f}, 95% CI: {:.2f}-{:.2f}\".format(mean_score, ci_lower, ci_upper))"
   ]
  },
  {
   "cell_type": "markdown",
   "metadata": {},
   "source": [
    "### Use case #4\n",
    "\n",
    "Compare one model to a set of readers by computing p-value for a difference in their performance measured with AUC"
   ]
  },
  {
   "cell_type": "code",
   "execution_count": 11,
   "metadata": {
    "collapsed": true
   },
   "outputs": [],
   "source": [
    "np.random.seed(42)\n",
    "random_array = np.random.rand(100)\n",
    "# simulated ground truth\n",
    "y_true = np.round(random_array)\n",
    "# simulated predictions for a model\n",
    "y_pred = random_array + np.random.normal(loc=0.0, scale=0.2, size=len(y_true))\n",
    "# simulated predictions for readers\n",
    "y_pred_readers = []\n",
    "for _ in range(10):\n",
    "    scale = np.random.normal(loc=0.3, scale=0.1)\n",
    "    y_pred_r = random_array + np.random.normal(loc=0.0, scale=scale, size=len(y_true))\n",
    "    y_pred_readers.append(y_pred_r)"
   ]
  },
  {
   "cell_type": "code",
   "execution_count": 12,
   "metadata": {
    "collapsed": true
   },
   "outputs": [],
   "source": [
    "# p-value comparing AUC for a model to mean AUC for 10 readers\n",
    "p, z = stat_util.pvalue_stat(y_true, y_pred, y_pred_readers, \n",
    "                             score_fun=roc_auc_score,\n",
    "                             stat_fun=np.mean,\n",
    "                             seed=42)"
   ]
  },
  {
   "cell_type": "code",
   "execution_count": 13,
   "metadata": {},
   "outputs": [
    {
     "name": "stdout",
     "output_type": "stream",
     "text": [
      "p=0.009\n"
     ]
    },
    {
     "data": {
      "image/png": "[encoded data removed]",
      "text/plain": [
       "<Figure size 432x288 with 1 Axes>"
      ]
     },
     "metadata": {
      "needs_background": "light"
     },
     "output_type": "display_data"
    }
   ],
   "source": [
    "bins = plt.hist(z)\n",
    "plt.plot([0, 0], [0, np.max(bins[0])], color=\"black\")\n",
    "print(\"p={}\".format(p))"
   ]
  },
  {
   "cell_type": "code",
   "execution_count": null,
   "metadata": {
    "collapsed": true
   },
   "outputs": [],
   "source": []
  }
 ],
 "metadata": {
  "kernelspec": {
   "display_name": "Python 3",
   "language": "python",
   "name": "python3"
  },
  "language_info": {
   "codemirror_mode": {
    "name": "ipython",
    "version": 2
   },
   "file_extension": ".py",
   "mimetype": "text/x-python",
   "name": "python",
   "nbconvert_exporter": "python",
   "pygments_lexer": "ipython2",
   "version": "2.7.10"
  }
 },
 "nbformat": 4,
 "nbformat_minor": 2
}
